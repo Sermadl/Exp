{
 "cells": [
  {
   "cell_type": "code",
   "execution_count": 4,
   "id": "b3f64c3c",
   "metadata": {},
   "outputs": [],
   "source": [
    "import pandas as pd\n",
    "import os"
   ]
  },
  {
   "cell_type": "code",
   "execution_count": 5,
   "id": "02f6dfd3",
   "metadata": {
    "scrolled": true
   },
   "outputs": [
    {
     "name": "stdout",
     "output_type": "stream",
     "text": [
      "264\n"
     ]
    }
   ],
   "source": [
    "#dk_api의 api가 column, apk가 row\n",
    "\n",
    "columns = []\n",
    "\n",
    "rows = len(os.listdir(\"apis/\"))\n",
    "print(rows)\n",
    "\n",
    "with open('dk_api.txt', 'r') as f:\n",
    "    columns = f.read().splitlines()"
   ]
  },
  {
   "cell_type": "code",
   "execution_count": 7,
   "id": "d4ac23df",
   "metadata": {},
   "outputs": [
    {
     "data": {
      "application/vnd.jupyter.widget-view+json": {
       "model_id": "40fa72e486584ed8858ca1ee4bbd305e",
       "version_major": 2,
       "version_minor": 0
      },
      "text/plain": [
       "  0%|          | 0/264 [00:00<?, ?it/s]"
      ]
     },
     "metadata": {},
     "output_type": "display_data"
    },
    {
     "data": {
      "application/vnd.jupyter.widget-view+json": {
       "model_id": "be9f4cab78e24594892d82e19ced5068",
       "version_major": 2,
       "version_minor": 0
      },
      "text/plain": [
       "  0%|          | 0/264 [00:01<?, ?it/s]"
      ]
     },
     "metadata": {},
     "output_type": "display_data"
    }
   ],
   "source": [
    "from tqdm import notebook\n",
    "\n",
    "api_row = set()\n",
    "apk_apis = []\n",
    "perm_row = set()\n",
    "apk_perms = []\n",
    "\n",
    "#txt파일 안에 있는  api 읽어와야함\n",
    "def make_rows(apks_path, list, apk):\n",
    "    for (path, dir, files) in os.walk(apks_path):\n",
    "        for filename in notebook.tqdm(files):\n",
    "            ext = os.path.splitext(filename)[-1]\n",
    "            if ext == \".txt\":\n",
    "                with open(path+filename, 'r') as f:\n",
    "                    columns = f.read().splitlines()\n",
    "                list.update(tuple(columns))\n",
    "                apk.append(columns)\n",
    "            else:\n",
    "                print(filename)\n",
    "\n",
    "make_rows(\"apis/\", api_row, apk_apis)\n",
    "make_rows(\"permissions/\", perm_row, apk_perms)"
   ]
  },
  {
   "cell_type": "code",
   "execution_count": null,
   "id": "8a5c223f",
   "metadata": {},
   "outputs": [
    {
     "data": {
      "application/vnd.jupyter.widget-view+json": {
       "model_id": "b1a5107657974c3f9774f40b4a42f1be",
       "version_major": 2,
       "version_minor": 0
      },
      "text/plain": [
       "  0%|          | 0/264 [00:00<?, ?it/s]"
      ]
     },
     "metadata": {},
     "output_type": "display_data"
    },
    {
     "data": {
      "application/vnd.jupyter.widget-view+json": {
       "model_id": "7f881373abe941319c1db85edfd8fa73",
       "version_major": 2,
       "version_minor": 0
      },
      "text/plain": [
       "  0%|          | 0/4895947 [00:00<?, ?it/s]"
      ]
     },
     "metadata": {},
     "output_type": "display_data"
    },
    {
     "data": {
      "application/vnd.jupyter.widget-view+json": {
       "model_id": "d548c48e35ea41798d8ca438e01af67d",
       "version_major": 2,
       "version_minor": 0
      },
      "text/plain": [
       "  0%|          | 0/4895947 [00:00<?, ?it/s]"
      ]
     },
     "metadata": {},
     "output_type": "display_data"
    },
    {
     "data": {
      "application/vnd.jupyter.widget-view+json": {
       "model_id": "eb0bfc5c3853411c94e0f98e4de029ae",
       "version_major": 2,
       "version_minor": 0
      },
      "text/plain": [
       "  0%|          | 0/4895947 [00:00<?, ?it/s]"
      ]
     },
     "metadata": {},
     "output_type": "display_data"
    },
    {
     "data": {
      "application/vnd.jupyter.widget-view+json": {
       "model_id": "ca268647f3de4a71b06bedb84c51e959",
       "version_major": 2,
       "version_minor": 0
      },
      "text/plain": [
       "  0%|          | 0/4895947 [00:00<?, ?it/s]"
      ]
     },
     "metadata": {},
     "output_type": "display_data"
    },
    {
     "data": {
      "application/vnd.jupyter.widget-view+json": {
       "model_id": "c2ab25fe3ebc434ca479e7e897ebaaee",
       "version_major": 2,
       "version_minor": 0
      },
      "text/plain": [
       "  0%|          | 0/4895947 [00:00<?, ?it/s]"
      ]
     },
     "metadata": {},
     "output_type": "display_data"
    },
    {
     "data": {
      "application/vnd.jupyter.widget-view+json": {
       "model_id": "de0ae73169124ab28765e3f44b38a976",
       "version_major": 2,
       "version_minor": 0
      },
      "text/plain": [
       "  0%|          | 0/4895947 [00:17<?, ?it/s]"
      ]
     },
     "metadata": {},
     "output_type": "display_data"
    }
   ],
   "source": [
    "def check(column, row):\n",
    "    list = []\n",
    "    for name in notebook.tqdm(row):\n",
    "        if name in column:\n",
    "            list.append(1)\n",
    "        else:\n",
    "            list.append(0)\n",
    "    return list\n",
    "\n",
    "\n",
    "api_check = []\n",
    "\n",
    "\n",
    "for apk in notebook.tqdm(apk_apis):\n",
    "    api_check.append(check(apk, api_row))"
   ]
  },
  {
   "cell_type": "code",
   "execution_count": null,
   "id": "6239e584",
   "metadata": {},
   "outputs": [],
   "source": [
    "api_check"
   ]
  },
  {
   "cell_type": "code",
   "execution_count": 29,
   "id": "dc3c4bb6",
   "metadata": {},
   "outputs": [
    {
     "ename": "TypeError",
     "evalue": "__init__() got an unexpected keyword argument 'column'",
     "output_type": "error",
     "traceback": [
      "\u001b[0;31m---------------------------------------------------------------------------\u001b[0m",
      "\u001b[0;31mTypeError\u001b[0m                                 Traceback (most recent call last)",
      "Input \u001b[0;32mIn [29]\u001b[0m, in \u001b[0;36m<cell line: 3>\u001b[0;34m()\u001b[0m\n\u001b[1;32m      1\u001b[0m \u001b[38;5;66;03m#벡터 테이블 생성\u001b[39;00m\n\u001b[0;32m----> 3\u001b[0m vecor_table \u001b[38;5;241m=\u001b[39m \u001b[43mpd\u001b[49m\u001b[38;5;241;43m.\u001b[39;49m\u001b[43mDataFrame\u001b[49m\u001b[43m(\u001b[49m\u001b[43mcolumn\u001b[49m\u001b[38;5;241;43m=\u001b[39;49m\u001b[43mcolumns\u001b[49m\u001b[43m,\u001b[49m\n\u001b[1;32m      4\u001b[0m \u001b[43m               \u001b[49m\u001b[43mindex\u001b[49m\u001b[38;5;241;43m=\u001b[39;49m\u001b[43mapi_row\u001b[49m\u001b[43m)\u001b[49m\n\u001b[1;32m      5\u001b[0m vecor_table\n",
      "\u001b[0;31mTypeError\u001b[0m: __init__() got an unexpected keyword argument 'column'"
     ]
    }
   ],
   "source": [
    "#벡터 테이블 생성\n",
    "\n",
    "vecor_table = pd.DataFrame(column=columns,\n",
    "               index=api_row)\n",
    "vecor_table"
   ]
  }
 ],
 "metadata": {
  "kernelspec": {
   "display_name": "Python 3 (ipykernel)",
   "language": "python",
   "name": "python3"
  },
  "language_info": {
   "codemirror_mode": {
    "name": "ipython",
    "version": 3
   },
   "file_extension": ".py",
   "mimetype": "text/x-python",
   "name": "python",
   "nbconvert_exporter": "python",
   "pygments_lexer": "ipython3",
   "version": "3.9.12"
  }
 },
 "nbformat": 4,
 "nbformat_minor": 5
}
